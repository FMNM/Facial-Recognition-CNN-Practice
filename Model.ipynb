{
 "cells": [
  {
   "cell_type": "code",
   "execution_count": 131,
   "metadata": {
    "collapsed": true,
    "ExecuteTime": {
     "end_time": "2023-06-06T08:57:55.115677900Z",
     "start_time": "2023-06-06T08:57:55.099678500Z"
    }
   },
   "outputs": [],
   "source": [
    "import os\n",
    "from PIL import Image\n",
    "import numpy as np\n",
    "import pandas as pd\n",
    "import seaborn as sn\n",
    "import matplotlib.pyplot as plt\n",
    "from sklearn.model_selection import train_test_split\n",
    "from sklearn.preprocessing import LabelEncoder\n",
    "from keras.utils import load_img, img_to_array, to_categorical\n",
    "import tensorflow as tf\n",
    "import keras\n",
    "from keras.models import Sequential\n",
    "from keras.layers import Conv2D, MaxPooling2D, AveragePooling2D\n",
    "from keras.layers import Dense, Activation, Dropout, Flatten"
   ]
  },
  {
   "cell_type": "code",
   "execution_count": 132,
   "outputs": [],
   "source": [
    "dataset_path = 'Datasets/DT 2/Training'\n",
    "\n",
    "images = []\n",
    "labels = []\n",
    "\n",
    "for folder in os.listdir(dataset_path):\n",
    "    for image_file in os.listdir(dataset_path + '/' + folder):\n",
    "        image_path = os.path.join(dataset_path + '/' + folder, image_file)\n",
    "        image = load_img(image_path)\n",
    "        image = img_to_array(image)\n",
    "\n",
    "        images.append(image)\n",
    "        labels.append(folder)\n",
    "\n",
    "images = np.array(images)\n",
    "labels = np.array(labels)\n",
    "\n",
    "le = LabelEncoder()\n",
    "labels = le.fit_transform(labels)"
   ],
   "metadata": {
    "collapsed": false,
    "ExecuteTime": {
     "end_time": "2023-06-06T08:58:04.673378700Z",
     "start_time": "2023-06-06T08:57:55.117679100Z"
    }
   }
  },
  {
   "cell_type": "code",
   "execution_count": 133,
   "outputs": [],
   "source": [
    "# Split the dataset into training and validation sets while preserving the label distribution\n",
    "X_train, X_val, labels_train, labels_val = train_test_split(images, labels, test_size=0.3, random_state=42, shuffle=True)\n",
    "\n",
    "# Convert emotion labels to one-hot encoding\n",
    "num_classes = 6\n",
    "labels_train = tf.keras.utils.to_categorical(labels_train, num_classes)\n",
    "labels_val = tf.keras.utils.to_categorical(labels_val, num_classes)"
   ],
   "metadata": {
    "collapsed": false,
    "ExecuteTime": {
     "end_time": "2023-06-06T08:58:04.847409900Z",
     "start_time": "2023-06-06T08:58:04.674382100Z"
    }
   }
  },
  {
   "cell_type": "code",
   "execution_count": 134,
   "outputs": [],
   "source": [
    "model = Sequential()\n",
    "model.add(Conv2D(32, (3, 3), activation='relu', input_shape=(48, 48, 3)))\n",
    "model.add(MaxPooling2D((2, 2)))\n",
    "model.add(Conv2D(64, (3, 3), activation='relu'))\n",
    "model.add(MaxPooling2D((2, 2)))\n",
    "model.add(Conv2D(128, (3, 3), activation='relu'))\n",
    "model.add(MaxPooling2D((2, 2)))\n",
    "model.add(Flatten())\n",
    "model.add(Dense(64, activation='relu'))\n",
    "model.add(Dense(num_classes, activation='softmax'))"
   ],
   "metadata": {
    "collapsed": false,
    "ExecuteTime": {
     "end_time": "2023-06-06T08:58:04.910922700Z",
     "start_time": "2023-06-06T08:58:04.849411100Z"
    }
   }
  },
  {
   "cell_type": "code",
   "execution_count": 137,
   "outputs": [],
   "source": [
    "model.compile(optimizer='adam',\n",
    "              loss='categorical_crossentropy',\n",
    "              metrics=['accuracy'])"
   ],
   "metadata": {
    "collapsed": false,
    "ExecuteTime": {
     "end_time": "2023-06-06T08:59:04.481707500Z",
     "start_time": "2023-06-06T08:59:04.470879100Z"
    }
   }
  },
  {
   "cell_type": "code",
   "execution_count": 139,
   "outputs": [
    {
     "name": "stdout",
     "output_type": "stream",
     "text": [
      "Epoch 1/25\n",
      "619/619 [==============================] - 19s 31ms/step - loss: 0.8740 - accuracy: 0.6754 - val_loss: 1.5300 - val_accuracy: 0.4982\n",
      "Epoch 2/25\n",
      "619/619 [==============================] - 12s 19ms/step - loss: 0.8111 - accuracy: 0.7034 - val_loss: 1.5434 - val_accuracy: 0.4961\n",
      "Epoch 3/25\n",
      "619/619 [==============================] - 11s 19ms/step - loss: 0.7461 - accuracy: 0.7262 - val_loss: 1.5737 - val_accuracy: 0.5026\n",
      "Epoch 4/25\n",
      "619/619 [==============================] - 12s 19ms/step - loss: 0.7085 - accuracy: 0.7416 - val_loss: 1.8339 - val_accuracy: 0.4831\n",
      "Epoch 5/25\n",
      "619/619 [==============================] - 12s 19ms/step - loss: 0.6439 - accuracy: 0.7643 - val_loss: 1.7471 - val_accuracy: 0.4975\n",
      "Epoch 6/25\n",
      "619/619 [==============================] - 12s 20ms/step - loss: 0.5984 - accuracy: 0.7849 - val_loss: 1.8931 - val_accuracy: 0.4930\n",
      "Epoch 7/25\n",
      "619/619 [==============================] - 12s 19ms/step - loss: 0.5590 - accuracy: 0.8014 - val_loss: 1.9119 - val_accuracy: 0.4922\n",
      "Epoch 8/25\n",
      "619/619 [==============================] - 12s 19ms/step - loss: 0.5099 - accuracy: 0.8176 - val_loss: 2.0391 - val_accuracy: 0.5105\n",
      "Epoch 9/25\n",
      "619/619 [==============================] - 12s 19ms/step - loss: 0.4881 - accuracy: 0.8281 - val_loss: 2.1437 - val_accuracy: 0.4934\n",
      "Epoch 10/25\n",
      "619/619 [==============================] - 12s 19ms/step - loss: 0.4538 - accuracy: 0.8375 - val_loss: 2.2489 - val_accuracy: 0.5000\n",
      "Epoch 11/25\n",
      "619/619 [==============================] - 12s 20ms/step - loss: 0.4318 - accuracy: 0.8487 - val_loss: 2.2859 - val_accuracy: 0.5004\n",
      "Epoch 12/25\n",
      "619/619 [==============================] - 12s 19ms/step - loss: 0.4218 - accuracy: 0.8511 - val_loss: 2.3260 - val_accuracy: 0.4949\n",
      "Epoch 13/25\n",
      "619/619 [==============================] - 12s 19ms/step - loss: 0.3723 - accuracy: 0.8680 - val_loss: 2.4750 - val_accuracy: 0.4954\n",
      "Epoch 14/25\n",
      "619/619 [==============================] - 13s 20ms/step - loss: 0.3762 - accuracy: 0.8670 - val_loss: 2.6081 - val_accuracy: 0.4896\n",
      "Epoch 15/25\n",
      "619/619 [==============================] - 12s 19ms/step - loss: 0.3544 - accuracy: 0.8743 - val_loss: 2.9782 - val_accuracy: 0.4749\n",
      "Epoch 16/25\n",
      "619/619 [==============================] - 12s 19ms/step - loss: 0.3414 - accuracy: 0.8806 - val_loss: 2.7485 - val_accuracy: 0.4868\n",
      "Epoch 17/25\n",
      "619/619 [==============================] - 12s 19ms/step - loss: 0.3243 - accuracy: 0.8860 - val_loss: 2.8078 - val_accuracy: 0.4772\n",
      "Epoch 18/25\n",
      "619/619 [==============================] - 12s 19ms/step - loss: 0.3131 - accuracy: 0.8903 - val_loss: 2.8843 - val_accuracy: 0.4833\n",
      "Epoch 19/25\n",
      "619/619 [==============================] - 12s 19ms/step - loss: 0.3037 - accuracy: 0.8965 - val_loss: 3.0644 - val_accuracy: 0.4939\n",
      "Epoch 20/25\n",
      "619/619 [==============================] - 13s 21ms/step - loss: 0.2863 - accuracy: 0.9011 - val_loss: 3.0656 - val_accuracy: 0.4824\n",
      "Epoch 21/25\n",
      "619/619 [==============================] - 16s 25ms/step - loss: 0.2978 - accuracy: 0.8977 - val_loss: 3.1275 - val_accuracy: 0.4853\n",
      "Epoch 22/25\n",
      "619/619 [==============================] - 12s 20ms/step - loss: 0.2749 - accuracy: 0.9025 - val_loss: 3.4865 - val_accuracy: 0.4962\n",
      "Epoch 23/25\n",
      "619/619 [==============================] - 12s 19ms/step - loss: 0.2858 - accuracy: 0.9029 - val_loss: 2.9915 - val_accuracy: 0.4946\n",
      "Epoch 24/25\n",
      "619/619 [==============================] - 12s 19ms/step - loss: 0.2420 - accuracy: 0.9155 - val_loss: 3.2290 - val_accuracy: 0.4849\n",
      "Epoch 25/25\n",
      "619/619 [==============================] - 12s 19ms/step - loss: 0.2568 - accuracy: 0.9128 - val_loss: 3.2420 - val_accuracy: 0.4863\n"
     ]
    },
    {
     "data": {
      "text/plain": "<keras.callbacks.History at 0x2059ae2eca0>"
     },
     "execution_count": 139,
     "metadata": {},
     "output_type": "execute_result"
    }
   ],
   "source": [
    "model.fit(X_train, labels_train, epochs=25, validation_data=(X_val, labels_val))"
   ],
   "metadata": {
    "collapsed": false,
    "ExecuteTime": {
     "end_time": "2023-06-06T09:06:58.001895200Z",
     "start_time": "2023-06-06T09:01:47.507685600Z"
    }
   }
  },
  {
   "cell_type": "code",
   "execution_count": null,
   "outputs": [],
   "source": [],
   "metadata": {
    "collapsed": false
   }
  }
 ],
 "metadata": {
  "kernelspec": {
   "display_name": "Python 3",
   "language": "python",
   "name": "python3"
  },
  "language_info": {
   "codemirror_mode": {
    "name": "ipython",
    "version": 2
   },
   "file_extension": ".py",
   "mimetype": "text/x-python",
   "name": "python",
   "nbconvert_exporter": "python",
   "pygments_lexer": "ipython2",
   "version": "2.7.6"
  }
 },
 "nbformat": 4,
 "nbformat_minor": 0
}
