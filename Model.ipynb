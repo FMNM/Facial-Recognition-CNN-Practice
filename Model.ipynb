{
 "cells": [
  {
   "cell_type": "code",
   "execution_count": 1,
   "metadata": {
    "collapsed": true,
    "ExecuteTime": {
     "end_time": "2023-06-06T09:47:09.624842700Z",
     "start_time": "2023-06-06T09:47:07.791117600Z"
    }
   },
   "outputs": [],
   "source": [
    "import os\n",
    "from PIL import Image\n",
    "import numpy as np\n",
    "import pandas as pd\n",
    "import seaborn as sn\n",
    "import matplotlib.pyplot as plt\n",
    "from sklearn.model_selection import train_test_split\n",
    "from sklearn.preprocessing import LabelEncoder\n",
    "from keras.utils import load_img, img_to_array, to_categorical\n",
    "import tensorflow as tf\n",
    "import keras\n",
    "from keras.models import Sequential\n",
    "from keras.layers import Conv2D, MaxPooling2D, AveragePooling2D\n",
    "from keras.layers import Dense, Activation, Dropout, Flatten"
   ]
  },
  {
   "cell_type": "markdown",
   "source": [
    "### Load dataset"
   ],
   "metadata": {
    "collapsed": false
   }
  },
  {
   "cell_type": "code",
   "execution_count": 2,
   "outputs": [],
   "source": [
    "dataset_path = 'Datasets/DT 2/Training'\n",
    "\n",
    "images = []\n",
    "labels = []\n",
    "\n",
    "for folder in os.listdir(dataset_path):\n",
    "    for image_file in os.listdir(dataset_path + '/' + folder):\n",
    "        image_path = os.path.join(dataset_path + '/' + folder, image_file)\n",
    "        image = load_img(image_path)\n",
    "        image = img_to_array(image)\n",
    "\n",
    "        images.append(image)\n",
    "        labels.append(folder)\n",
    "\n",
    "images = np.array(images)\n",
    "labels = np.array(labels)\n",
    "\n",
    "le = LabelEncoder()\n",
    "labels = le.fit_transform(labels)"
   ],
   "metadata": {
    "collapsed": false,
    "ExecuteTime": {
     "end_time": "2023-06-06T09:47:18.928083500Z",
     "start_time": "2023-06-06T09:47:09.625842400Z"
    }
   }
  },
  {
   "cell_type": "markdown",
   "source": [
    "### Split and prepare dataset"
   ],
   "metadata": {
    "collapsed": false
   }
  },
  {
   "cell_type": "code",
   "execution_count": 3,
   "outputs": [],
   "source": [
    "X_train, X_val, y_train, y_val = train_test_split(images, labels, test_size=0.2, shuffle=True)\n",
    "\n",
    "num_classes = 6\n",
    "y_train = tf.keras.utils.to_categorical(y_train, num_classes)\n",
    "y_val = tf.keras.utils.to_categorical(y_val, num_classes)"
   ],
   "metadata": {
    "collapsed": false,
    "ExecuteTime": {
     "end_time": "2023-06-06T09:47:19.135113800Z",
     "start_time": "2023-06-06T09:47:18.930083Z"
    }
   }
  },
  {
   "cell_type": "markdown",
   "source": [
    "### CNN architecture"
   ],
   "metadata": {
    "collapsed": false
   }
  },
  {
   "cell_type": "code",
   "execution_count": 4,
   "outputs": [],
   "source": [
    "model = Sequential()\n",
    "model.add(Conv2D(32, (3, 3), activation='relu', input_shape=(48, 48, 3)))\n",
    "model.add(MaxPooling2D((2, 2)))\n",
    "model.add(Conv2D(64, (3, 3), activation='relu'))\n",
    "model.add(MaxPooling2D((2, 2)))\n",
    "model.add(Conv2D(128, (3, 3), activation='relu'))\n",
    "model.add(MaxPooling2D((2, 2)))\n",
    "model.add(Flatten())\n",
    "model.add(Dense(64, activation='relu'))\n",
    "model.add(Dense(num_classes, activation='softmax'))"
   ],
   "metadata": {
    "collapsed": false,
    "ExecuteTime": {
     "end_time": "2023-06-06T09:47:19.229630300Z",
     "start_time": "2023-06-06T09:47:19.137115500Z"
    }
   }
  },
  {
   "cell_type": "code",
   "execution_count": 5,
   "outputs": [],
   "source": [
    "model.compile(optimizer='adam',\n",
    "              loss='categorical_crossentropy',\n",
    "              metrics=['accuracy'])"
   ],
   "metadata": {
    "collapsed": false,
    "ExecuteTime": {
     "end_time": "2023-06-06T09:47:19.245630600Z",
     "start_time": "2023-06-06T09:47:19.230631200Z"
    }
   }
  },
  {
   "cell_type": "markdown",
   "source": [
    "### Train model"
   ],
   "metadata": {
    "collapsed": false
   }
  },
  {
   "cell_type": "code",
   "execution_count": 6,
   "outputs": [
    {
     "name": "stdout",
     "output_type": "stream",
     "text": [
      "Epoch 1/50\n",
      "707/707 [==============================] - 13s 17ms/step - loss: 1.9538 - accuracy: 0.3407 - val_loss: 1.4894 - val_accuracy: 0.4207\n",
      "Epoch 2/50\n",
      "707/707 [==============================] - 13s 18ms/step - loss: 1.4422 - accuracy: 0.4367 - val_loss: 1.4070 - val_accuracy: 0.4592\n",
      "Epoch 3/50\n",
      "707/707 [==============================] - 12s 17ms/step - loss: 1.3422 - accuracy: 0.4787 - val_loss: 1.3964 - val_accuracy: 0.4543\n",
      "Epoch 4/50\n",
      "707/707 [==============================] - 11s 15ms/step - loss: 1.2640 - accuracy: 0.5130 - val_loss: 1.3693 - val_accuracy: 0.4799\n",
      "Epoch 5/50\n",
      "707/707 [==============================] - 11s 16ms/step - loss: 1.2070 - accuracy: 0.5356 - val_loss: 1.3466 - val_accuracy: 0.4927\n",
      "Epoch 6/50\n",
      "707/707 [==============================] - 12s 16ms/step - loss: 1.1479 - accuracy: 0.5578 - val_loss: 1.3333 - val_accuracy: 0.4981\n",
      "Epoch 7/50\n",
      "707/707 [==============================] - 12s 16ms/step - loss: 1.0901 - accuracy: 0.5803 - val_loss: 1.3291 - val_accuracy: 0.5027\n",
      "Epoch 8/50\n",
      "707/707 [==============================] - 12s 17ms/step - loss: 1.0242 - accuracy: 0.6092 - val_loss: 1.3631 - val_accuracy: 0.5105\n",
      "Epoch 9/50\n",
      "707/707 [==============================] - 11s 15ms/step - loss: 0.9655 - accuracy: 0.6304 - val_loss: 1.4725 - val_accuracy: 0.4734\n",
      "Epoch 10/50\n",
      "707/707 [==============================] - 11s 16ms/step - loss: 0.8989 - accuracy: 0.6604 - val_loss: 1.4494 - val_accuracy: 0.4987\n",
      "Epoch 11/50\n",
      "707/707 [==============================] - 11s 16ms/step - loss: 0.8457 - accuracy: 0.6821 - val_loss: 1.4540 - val_accuracy: 0.5054\n",
      "Epoch 12/50\n",
      "707/707 [==============================] - 11s 16ms/step - loss: 0.7574 - accuracy: 0.7131 - val_loss: 1.5971 - val_accuracy: 0.5063\n",
      "Epoch 13/50\n",
      "707/707 [==============================] - 11s 16ms/step - loss: 0.7211 - accuracy: 0.7301 - val_loss: 1.6131 - val_accuracy: 0.5116\n",
      "Epoch 14/50\n",
      "707/707 [==============================] - 11s 15ms/step - loss: 0.6582 - accuracy: 0.7530 - val_loss: 1.9089 - val_accuracy: 0.5019\n",
      "Epoch 15/50\n",
      "707/707 [==============================] - 11s 16ms/step - loss: 0.6079 - accuracy: 0.7732 - val_loss: 1.7981 - val_accuracy: 0.5034\n",
      "Epoch 16/50\n",
      "707/707 [==============================] - 11s 15ms/step - loss: 0.5666 - accuracy: 0.7916 - val_loss: 2.1078 - val_accuracy: 0.5008\n",
      "Epoch 17/50\n",
      "707/707 [==============================] - 11s 16ms/step - loss: 0.5147 - accuracy: 0.8089 - val_loss: 2.2184 - val_accuracy: 0.4966\n",
      "Epoch 18/50\n",
      "707/707 [==============================] - 11s 16ms/step - loss: 0.4970 - accuracy: 0.8186 - val_loss: 2.1753 - val_accuracy: 0.4974\n",
      "Epoch 19/50\n",
      "707/707 [==============================] - 11s 16ms/step - loss: 0.4451 - accuracy: 0.8377 - val_loss: 2.4554 - val_accuracy: 0.4866\n",
      "Epoch 20/50\n",
      "707/707 [==============================] - 11s 15ms/step - loss: 0.4298 - accuracy: 0.8411 - val_loss: 2.4203 - val_accuracy: 0.4980\n",
      "Epoch 21/50\n",
      "707/707 [==============================] - 11s 16ms/step - loss: 0.4021 - accuracy: 0.8529 - val_loss: 2.5074 - val_accuracy: 0.4912\n",
      "Epoch 22/50\n",
      "707/707 [==============================] - 12s 17ms/step - loss: 0.3939 - accuracy: 0.8582 - val_loss: 2.6788 - val_accuracy: 0.4966\n",
      "Epoch 23/50\n",
      "707/707 [==============================] - 11s 16ms/step - loss: 0.3678 - accuracy: 0.8676 - val_loss: 2.7488 - val_accuracy: 0.4980\n",
      "Epoch 24/50\n",
      "707/707 [==============================] - 11s 16ms/step - loss: 0.3392 - accuracy: 0.8792 - val_loss: 2.9336 - val_accuracy: 0.4911\n",
      "Epoch 25/50\n",
      "707/707 [==============================] - 11s 15ms/step - loss: 0.3068 - accuracy: 0.8897 - val_loss: 3.0906 - val_accuracy: 0.5061\n",
      "Epoch 26/50\n",
      "707/707 [==============================] - 11s 16ms/step - loss: 0.3074 - accuracy: 0.8927 - val_loss: 3.1790 - val_accuracy: 0.4898\n",
      "Epoch 27/50\n",
      "707/707 [==============================] - 11s 15ms/step - loss: 0.3175 - accuracy: 0.8884 - val_loss: 3.0352 - val_accuracy: 0.4870\n",
      "Epoch 28/50\n",
      "707/707 [==============================] - 11s 16ms/step - loss: 0.3199 - accuracy: 0.8907 - val_loss: 3.0864 - val_accuracy: 0.4974\n",
      "Epoch 29/50\n",
      "707/707 [==============================] - 11s 16ms/step - loss: 0.2784 - accuracy: 0.9018 - val_loss: 3.1374 - val_accuracy: 0.4930\n",
      "Epoch 30/50\n",
      "707/707 [==============================] - 11s 15ms/step - loss: 0.2776 - accuracy: 0.9007 - val_loss: 3.4037 - val_accuracy: 0.4898\n",
      "Epoch 31/50\n",
      "707/707 [==============================] - 11s 15ms/step - loss: 0.2712 - accuracy: 0.9095 - val_loss: 3.5777 - val_accuracy: 0.5015\n",
      "Epoch 32/50\n",
      "707/707 [==============================] - 12s 18ms/step - loss: 0.2374 - accuracy: 0.9176 - val_loss: 3.4992 - val_accuracy: 0.4934\n",
      "Epoch 33/50\n",
      "707/707 [==============================] - 12s 17ms/step - loss: 0.2604 - accuracy: 0.9099 - val_loss: 3.5254 - val_accuracy: 0.4951\n",
      "Epoch 34/50\n",
      "707/707 [==============================] - 11s 16ms/step - loss: 0.2538 - accuracy: 0.9136 - val_loss: 3.7939 - val_accuracy: 0.5019\n",
      "Epoch 35/50\n",
      "707/707 [==============================] - 11s 16ms/step - loss: 0.2507 - accuracy: 0.9147 - val_loss: 3.7145 - val_accuracy: 0.5079\n",
      "Epoch 36/50\n",
      "707/707 [==============================] - 12s 17ms/step - loss: 0.2339 - accuracy: 0.9208 - val_loss: 3.9095 - val_accuracy: 0.4877\n",
      "Epoch 37/50\n",
      "707/707 [==============================] - 11s 16ms/step - loss: 0.2319 - accuracy: 0.9224 - val_loss: 3.8892 - val_accuracy: 0.4790\n",
      "Epoch 38/50\n",
      "707/707 [==============================] - 11s 16ms/step - loss: 0.2133 - accuracy: 0.9283 - val_loss: 4.1484 - val_accuracy: 0.5011\n",
      "Epoch 39/50\n",
      "707/707 [==============================] - 11s 16ms/step - loss: 0.2223 - accuracy: 0.9274 - val_loss: 3.8100 - val_accuracy: 0.4739\n",
      "Epoch 40/50\n",
      "707/707 [==============================] - 11s 15ms/step - loss: 0.2297 - accuracy: 0.9221 - val_loss: 4.3137 - val_accuracy: 0.4808\n",
      "Epoch 41/50\n",
      "707/707 [==============================] - 11s 16ms/step - loss: 0.1995 - accuracy: 0.9319 - val_loss: 4.3915 - val_accuracy: 0.4958\n",
      "Epoch 42/50\n",
      "707/707 [==============================] - 11s 16ms/step - loss: 0.1931 - accuracy: 0.9377 - val_loss: 4.2166 - val_accuracy: 0.4928\n",
      "Epoch 43/50\n",
      "707/707 [==============================] - 11s 16ms/step - loss: 0.2191 - accuracy: 0.9305 - val_loss: 4.5308 - val_accuracy: 0.4842\n",
      "Epoch 44/50\n",
      "707/707 [==============================] - 11s 16ms/step - loss: 0.2035 - accuracy: 0.9335 - val_loss: 4.3660 - val_accuracy: 0.4879\n",
      "Epoch 45/50\n",
      "707/707 [==============================] - 11s 16ms/step - loss: 0.1987 - accuracy: 0.9347 - val_loss: 4.5907 - val_accuracy: 0.4881\n",
      "Epoch 46/50\n",
      "707/707 [==============================] - 11s 16ms/step - loss: 0.2195 - accuracy: 0.9287 - val_loss: 4.6696 - val_accuracy: 0.4905\n",
      "Epoch 47/50\n",
      "707/707 [==============================] - 12s 17ms/step - loss: 0.1807 - accuracy: 0.9411 - val_loss: 4.7414 - val_accuracy: 0.5043\n",
      "Epoch 48/50\n",
      "707/707 [==============================] - 12s 16ms/step - loss: 0.2175 - accuracy: 0.9313 - val_loss: 4.4016 - val_accuracy: 0.4875\n",
      "Epoch 49/50\n",
      "707/707 [==============================] - 11s 16ms/step - loss: 0.2049 - accuracy: 0.9339 - val_loss: 4.7137 - val_accuracy: 0.4930\n",
      "Epoch 50/50\n",
      "707/707 [==============================] - 11s 15ms/step - loss: 0.1888 - accuracy: 0.9403 - val_loss: 4.9136 - val_accuracy: 0.4817\n"
     ]
    },
    {
     "data": {
      "text/plain": "<keras.callbacks.History at 0x1c655435f40>"
     },
     "execution_count": 6,
     "metadata": {},
     "output_type": "execute_result"
    }
   ],
   "source": [
    "model.fit(X_train, y_train, epochs=50, shuffle=True, validation_data=(X_val, y_val))"
   ],
   "metadata": {
    "collapsed": false,
    "ExecuteTime": {
     "end_time": "2023-06-06T09:56:45.688194Z",
     "start_time": "2023-06-06T09:47:19.246630700Z"
    }
   }
  },
  {
   "cell_type": "code",
   "execution_count": 7,
   "outputs": [],
   "source": [
    "model.save('Models/DT2.h5')"
   ],
   "metadata": {
    "collapsed": false,
    "ExecuteTime": {
     "end_time": "2023-06-06T09:56:45.763711600Z",
     "start_time": "2023-06-06T09:56:45.689194400Z"
    }
   }
  }
 ],
 "metadata": {
  "kernelspec": {
   "display_name": "Python 3",
   "language": "python",
   "name": "python3"
  },
  "language_info": {
   "codemirror_mode": {
    "name": "ipython",
    "version": 2
   },
   "file_extension": ".py",
   "mimetype": "text/x-python",
   "name": "python",
   "nbconvert_exporter": "python",
   "pygments_lexer": "ipython2",
   "version": "2.7.6"
  }
 },
 "nbformat": 4,
 "nbformat_minor": 0
}
